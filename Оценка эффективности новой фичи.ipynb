{
 "cells": [
  {
   "cell_type": "markdown",
   "metadata": {},
   "source": [
    "ЗАДАНИЕ\n",
    "\n",
    "1. Посчитать показатели Retention Rate седьмого дня и ARPPU за два периода: до и после внедрения фичи.\n",
    "2. Сформировать выводы по анализу."
   ]
  },
  {
   "cell_type": "markdown",
   "metadata": {},
   "source": [
    "Считаем Retention Rate 7 дня за период до внедрения фичи. "
   ]
  },
  {
   "cell_type": "code",
   "execution_count": 73,
   "metadata": {},
   "outputs": [],
   "source": [
    "%matplotlib inline\n",
    "import pandas as pd\n",
    "import numpy as np\n",
    "import psycopg2\n",
    "import psycopg2.extras "
   ]
  },
  {
   "cell_type": "markdown",
   "metadata": {},
   "source": [
    "Создаем датафрейм"
   ]
  },
  {
   "cell_type": "code",
   "execution_count": 74,
   "metadata": {},
   "outputs": [],
   "source": [
    "def getRegisteredUsersCount():\n",
    "    query = '''SELECT r.registration_date, count(distinct(r.user_id)) as registered_users_count\n",
    "    FROM case9.registration r\n",
    "    WHERE r.registration_date >= '2019-05-01' and r.registration_date < '2019-07-01'\n",
    "    GROUP BY 1\n",
    "    '''.format()\n",
    "    conn = psycopg2.connect(\"dbname='skillfactory' user='skillfactory' host='84.201.134.129' password='cCkxxLVrDE8EbvjueeMedPKt' port=5432\")\n",
    "    dict_cur = conn.cursor(cursor_factory=psycopg2.extras.DictCursor)\n",
    "    dict_cur.execute(query)\n",
    "    rows = dict_cur.fetchall()\n",
    "    data = []\n",
    "    for row in rows:\n",
    "        data.append(dict(row))\n",
    "    return data\n",
    "\n",
    "registered_users_count = pd.DataFrame(getRegisteredUsersCount())\n",
    "registered_users_count['registration_date'] = pd.to_datetime(registered_users_count['registration_date'])\n",
    "def getActiveUsersCountWithCohorts():\n",
    "    query = '''SELECT ac.activity_date, r.registration_date, count(distinct(ac.user_id)) as active_users_count\n",
    "    FROM case9.user_activity ac\n",
    "    LEFT JOIN case9.registration r ON r.user_id = ac.user_id\n",
    "    WHERE r.registration_date >= '2019-05-01' and r.registration_date < '2019-07-01'\n",
    "    GROUP BY 1,2\n",
    "    '''.format()\n",
    "    conn = psycopg2.connect(\"dbname='skillfactory' user='skillfactory' host='84.201.134.129' password='cCkxxLVrDE8EbvjueeMedPKt' port=5432\")\n",
    "    dict_cur = conn.cursor(cursor_factory=psycopg2.extras.DictCursor)\n",
    "    dict_cur.execute(query)\n",
    "    rows = dict_cur.fetchall()\n",
    "    data = []\n",
    "    for row in rows:\n",
    "        data.append(dict(row))\n",
    "    return data\n"
   ]
  },
  {
   "cell_type": "code",
   "execution_count": 75,
   "metadata": {},
   "outputs": [
    {
     "data": {
      "text/html": [
       "<div>\n",
       "<style scoped>\n",
       "    .dataframe tbody tr th:only-of-type {\n",
       "        vertical-align: middle;\n",
       "    }\n",
       "\n",
       "    .dataframe tbody tr th {\n",
       "        vertical-align: top;\n",
       "    }\n",
       "\n",
       "    .dataframe thead th {\n",
       "        text-align: right;\n",
       "    }\n",
       "</style>\n",
       "<table border=\"1\" class=\"dataframe\">\n",
       "  <thead>\n",
       "    <tr style=\"text-align: right;\">\n",
       "      <th></th>\n",
       "      <th>activity_date</th>\n",
       "      <th>registration_date</th>\n",
       "      <th>active_users_count</th>\n",
       "      <th>registered_users_count</th>\n",
       "      <th>lifetime</th>\n",
       "    </tr>\n",
       "  </thead>\n",
       "  <tbody>\n",
       "    <tr>\n",
       "      <th>0</th>\n",
       "      <td>2019-05-01</td>\n",
       "      <td>2019-05-01</td>\n",
       "      <td>2590</td>\n",
       "      <td>6516</td>\n",
       "      <td>0</td>\n",
       "    </tr>\n",
       "    <tr>\n",
       "      <th>1</th>\n",
       "      <td>2019-05-02</td>\n",
       "      <td>2019-05-01</td>\n",
       "      <td>2146</td>\n",
       "      <td>6516</td>\n",
       "      <td>1</td>\n",
       "    </tr>\n",
       "    <tr>\n",
       "      <th>2</th>\n",
       "      <td>2019-05-02</td>\n",
       "      <td>2019-05-02</td>\n",
       "      <td>2049</td>\n",
       "      <td>5309</td>\n",
       "      <td>0</td>\n",
       "    </tr>\n",
       "    <tr>\n",
       "      <th>3</th>\n",
       "      <td>2019-05-03</td>\n",
       "      <td>2019-05-01</td>\n",
       "      <td>1637</td>\n",
       "      <td>6516</td>\n",
       "      <td>2</td>\n",
       "    </tr>\n",
       "    <tr>\n",
       "      <th>4</th>\n",
       "      <td>2019-05-03</td>\n",
       "      <td>2019-05-02</td>\n",
       "      <td>1817</td>\n",
       "      <td>5309</td>\n",
       "      <td>1</td>\n",
       "    </tr>\n",
       "  </tbody>\n",
       "</table>\n",
       "</div>"
      ],
      "text/plain": [
       "  activity_date registration_date  active_users_count  registered_users_count  \\\n",
       "0    2019-05-01        2019-05-01                2590                    6516   \n",
       "1    2019-05-02        2019-05-01                2146                    6516   \n",
       "2    2019-05-02        2019-05-02                2049                    5309   \n",
       "3    2019-05-03        2019-05-01                1637                    6516   \n",
       "4    2019-05-03        2019-05-02                1817                    5309   \n",
       "\n",
       "   lifetime  \n",
       "0         0  \n",
       "1         1  \n",
       "2         0  \n",
       "3         2  \n",
       "4         1  "
      ]
     },
     "execution_count": 75,
     "metadata": {},
     "output_type": "execute_result"
    }
   ],
   "source": [
    "active_users_count_with_cohorts = pd.DataFrame(getActiveUsersCountWithCohorts())\n",
    "for col in ['activity_date','registration_date']:\n",
    "    active_users_count_with_cohorts[col] = pd.to_datetime(active_users_count_with_cohorts[col])\n",
    "retention_table = active_users_count_with_cohorts.merge(registered_users_count,on=['registration_date'],how='left')#рассчитываем lifetime для каждой строки\n",
    "retention_table['lifetime'] = retention_table['activity_date'] - retention_table['registration_date']\n",
    "retention_table['lifetime'] = retention_table['lifetime']/np.timedelta64(1,'D')\n",
    "retention_table['lifetime'] = retention_table['lifetime'].astype(int) # Приведем тип к целому числу\n",
    "retention_table.head()"
   ]
  },
  {
   "cell_type": "markdown",
   "metadata": {},
   "source": [
    "Добавим в таблицу данные по выручке в разрезе дней."
   ]
  },
  {
   "cell_type": "code",
   "execution_count": 76,
   "metadata": {},
   "outputs": [
    {
     "data": {
      "text/html": [
       "<div>\n",
       "<style scoped>\n",
       "    .dataframe tbody tr th:only-of-type {\n",
       "        vertical-align: middle;\n",
       "    }\n",
       "\n",
       "    .dataframe tbody tr th {\n",
       "        vertical-align: top;\n",
       "    }\n",
       "\n",
       "    .dataframe thead th {\n",
       "        text-align: right;\n",
       "    }\n",
       "</style>\n",
       "<table border=\"1\" class=\"dataframe\">\n",
       "  <thead>\n",
       "    <tr style=\"text-align: right;\">\n",
       "      <th></th>\n",
       "      <th>activity_date</th>\n",
       "      <th>registration_date</th>\n",
       "      <th>active_users_count</th>\n",
       "      <th>registered_users_count</th>\n",
       "      <th>lifetime</th>\n",
       "      <th>users_count_with_revenue</th>\n",
       "      <th>revenue</th>\n",
       "    </tr>\n",
       "  </thead>\n",
       "  <tbody>\n",
       "    <tr>\n",
       "      <th>0</th>\n",
       "      <td>2019-05-01</td>\n",
       "      <td>2019-05-01</td>\n",
       "      <td>2590</td>\n",
       "      <td>6516</td>\n",
       "      <td>0</td>\n",
       "      <td>1672</td>\n",
       "      <td>2357.580</td>\n",
       "    </tr>\n",
       "    <tr>\n",
       "      <th>1</th>\n",
       "      <td>2019-05-02</td>\n",
       "      <td>2019-05-01</td>\n",
       "      <td>2146</td>\n",
       "      <td>6516</td>\n",
       "      <td>1</td>\n",
       "      <td>1420</td>\n",
       "      <td>514.679</td>\n",
       "    </tr>\n",
       "    <tr>\n",
       "      <th>2</th>\n",
       "      <td>2019-05-02</td>\n",
       "      <td>2019-05-02</td>\n",
       "      <td>2049</td>\n",
       "      <td>5309</td>\n",
       "      <td>0</td>\n",
       "      <td>1367</td>\n",
       "      <td>1629.140</td>\n",
       "    </tr>\n",
       "    <tr>\n",
       "      <th>3</th>\n",
       "      <td>2019-05-03</td>\n",
       "      <td>2019-05-01</td>\n",
       "      <td>1637</td>\n",
       "      <td>6516</td>\n",
       "      <td>2</td>\n",
       "      <td>1048</td>\n",
       "      <td>390.952</td>\n",
       "    </tr>\n",
       "    <tr>\n",
       "      <th>4</th>\n",
       "      <td>2019-05-03</td>\n",
       "      <td>2019-05-02</td>\n",
       "      <td>1817</td>\n",
       "      <td>5309</td>\n",
       "      <td>1</td>\n",
       "      <td>1164</td>\n",
       "      <td>533.608</td>\n",
       "    </tr>\n",
       "  </tbody>\n",
       "</table>\n",
       "</div>"
      ],
      "text/plain": [
       "  activity_date registration_date  active_users_count  registered_users_count  \\\n",
       "0    2019-05-01        2019-05-01                2590                    6516   \n",
       "1    2019-05-02        2019-05-01                2146                    6516   \n",
       "2    2019-05-02        2019-05-02                2049                    5309   \n",
       "3    2019-05-03        2019-05-01                1637                    6516   \n",
       "4    2019-05-03        2019-05-02                1817                    5309   \n",
       "\n",
       "   lifetime  users_count_with_revenue   revenue  \n",
       "0         0                      1672  2357.580  \n",
       "1         1                      1420   514.679  \n",
       "2         0                      1367  1629.140  \n",
       "3         2                      1048   390.952  \n",
       "4         1                      1164   533.608  "
      ]
     },
     "execution_count": 76,
     "metadata": {},
     "output_type": "execute_result"
    }
   ],
   "source": [
    "def getRevenue():\n",
    "    query = '''SELECT re.date, r.registration_date, count(distinct(re.user_id)) as users_count_with_revenue, sum(re.revenue) as revenue\n",
    "    FROM case9.user_revenue re\n",
    "    LEFT JOIN case9.registration r ON r.user_id = re.user_id\n",
    "    WHERE r.registration_date >= '2019-05-01' and r.registration_date < '2019-07-01'\n",
    "    GROUP BY 1,2\n",
    "    '''.format()\n",
    "    conn = psycopg2.connect(\"dbname='skillfactory' user='skillfactory' host='84.201.134.129' password='cCkxxLVrDE8EbvjueeMedPKt' port=5432\")\n",
    "    dict_cur = conn.cursor(cursor_factory=psycopg2.extras.DictCursor)\n",
    "    dict_cur.execute(query)\n",
    "    rows = dict_cur.fetchall()\n",
    "    data = []\n",
    "    for row in rows:\n",
    "        data.append(dict(row))\n",
    "    return data\n",
    "\n",
    "revenue = pd.DataFrame(getRevenue())\n",
    "\n",
    "for col in ['date','registration_date']:\n",
    "    revenue[col] = pd.to_datetime(revenue[col])\n",
    "    \n",
    "revenue = revenue.rename(columns={'date':'activity_date'})\n",
    "retention_table_with_revenue = retention_table.merge(revenue,on=['registration_date','activity_date'],how='left')\n",
    "for col in ['revenue','users_count_with_revenue']:\n",
    "    retention_table_with_revenue[col] = retention_table_with_revenue[col].fillna(0)\n",
    "retention_table_with_revenue['users_count_with_revenue'] = retention_table_with_revenue['users_count_with_revenue'].astype(int)# Приведем тип к целому числу\n",
    "retention_table_with_revenue.head()"
   ]
  },
  {
   "cell_type": "markdown",
   "metadata": {},
   "source": [
    "Далее из общего датафрема отфильтруем данные по lifetime 7 на период до запуска фичи (май 2019)"
   ]
  },
  {
   "cell_type": "code",
   "execution_count": 77,
   "metadata": {},
   "outputs": [
    {
     "name": "stderr",
     "output_type": "stream",
     "text": [
      "<ipython-input-77-7f2647d2bdcd>:1: UserWarning: Boolean Series key will be reindexed to match DataFrame index.\n",
      "  retention_7_may_table = retention_table_with_revenue[retention_table_with_revenue['lifetime']==7][retention_table_with_revenue['registration_date']>=\"2019-05-01\"][retention_table_with_revenue['registration_date']<\"2019-06-01\"]\n"
     ]
    },
    {
     "data": {
      "text/html": [
       "<div>\n",
       "<style scoped>\n",
       "    .dataframe tbody tr th:only-of-type {\n",
       "        vertical-align: middle;\n",
       "    }\n",
       "\n",
       "    .dataframe tbody tr th {\n",
       "        vertical-align: top;\n",
       "    }\n",
       "\n",
       "    .dataframe thead th {\n",
       "        text-align: right;\n",
       "    }\n",
       "</style>\n",
       "<table border=\"1\" class=\"dataframe\">\n",
       "  <thead>\n",
       "    <tr style=\"text-align: right;\">\n",
       "      <th></th>\n",
       "      <th>activity_date</th>\n",
       "      <th>registration_date</th>\n",
       "      <th>active_users_count</th>\n",
       "      <th>registered_users_count</th>\n",
       "      <th>lifetime</th>\n",
       "      <th>users_count_with_revenue</th>\n",
       "      <th>revenue</th>\n",
       "    </tr>\n",
       "  </thead>\n",
       "  <tbody>\n",
       "    <tr>\n",
       "      <th>28</th>\n",
       "      <td>2019-05-08</td>\n",
       "      <td>2019-05-01</td>\n",
       "      <td>953</td>\n",
       "      <td>6516</td>\n",
       "      <td>7</td>\n",
       "      <td>616</td>\n",
       "      <td>63.9065</td>\n",
       "    </tr>\n",
       "    <tr>\n",
       "      <th>37</th>\n",
       "      <td>2019-05-09</td>\n",
       "      <td>2019-05-02</td>\n",
       "      <td>745</td>\n",
       "      <td>5309</td>\n",
       "      <td>7</td>\n",
       "      <td>490</td>\n",
       "      <td>313.7230</td>\n",
       "    </tr>\n",
       "    <tr>\n",
       "      <th>47</th>\n",
       "      <td>2019-05-10</td>\n",
       "      <td>2019-05-03</td>\n",
       "      <td>895</td>\n",
       "      <td>6266</td>\n",
       "      <td>7</td>\n",
       "      <td>571</td>\n",
       "      <td>110.7260</td>\n",
       "    </tr>\n",
       "    <tr>\n",
       "      <th>58</th>\n",
       "      <td>2019-05-11</td>\n",
       "      <td>2019-05-04</td>\n",
       "      <td>1186</td>\n",
       "      <td>8639</td>\n",
       "      <td>7</td>\n",
       "      <td>750</td>\n",
       "      <td>124.8590</td>\n",
       "    </tr>\n",
       "    <tr>\n",
       "      <th>70</th>\n",
       "      <td>2019-05-12</td>\n",
       "      <td>2019-05-05</td>\n",
       "      <td>1358</td>\n",
       "      <td>9787</td>\n",
       "      <td>7</td>\n",
       "      <td>885</td>\n",
       "      <td>174.9240</td>\n",
       "    </tr>\n",
       "  </tbody>\n",
       "</table>\n",
       "</div>"
      ],
      "text/plain": [
       "   activity_date registration_date  active_users_count  \\\n",
       "28    2019-05-08        2019-05-01                 953   \n",
       "37    2019-05-09        2019-05-02                 745   \n",
       "47    2019-05-10        2019-05-03                 895   \n",
       "58    2019-05-11        2019-05-04                1186   \n",
       "70    2019-05-12        2019-05-05                1358   \n",
       "\n",
       "    registered_users_count  lifetime  users_count_with_revenue   revenue  \n",
       "28                    6516         7                       616   63.9065  \n",
       "37                    5309         7                       490  313.7230  \n",
       "47                    6266         7                       571  110.7260  \n",
       "58                    8639         7                       750  124.8590  \n",
       "70                    9787         7                       885  174.9240  "
      ]
     },
     "execution_count": 77,
     "metadata": {},
     "output_type": "execute_result"
    }
   ],
   "source": [
    "retention_7_may_table = retention_table_with_revenue[retention_table_with_revenue['lifetime']==7][retention_table_with_revenue['registration_date']>=\"2019-05-01\"][retention_table_with_revenue['registration_date']<\"2019-06-01\"]\n",
    "retention_7_may_table.head()"
   ]
  },
  {
   "cell_type": "code",
   "execution_count": 78,
   "metadata": {},
   "outputs": [
    {
     "name": "stdout",
     "output_type": "stream",
     "text": [
      "Retention 7 дня для пользователей, привлеченных до релиза = 12.93%\n"
     ]
    }
   ],
   "source": [
    "print ('Retention 7 дня для пользователей, привлеченных до релиза = {:.2%}'.format(retention_7_may_table['active_users_count'].sum() / retention_7_may_table['registered_users_count'].sum()))"
   ]
  },
  {
   "cell_type": "markdown",
   "metadata": {},
   "source": [
    "Далее из общего датафрема отфильтруем данные по lifetime 7 на период после запуска фичи (июнь 2019)"
   ]
  },
  {
   "cell_type": "code",
   "execution_count": 79,
   "metadata": {},
   "outputs": [
    {
     "name": "stderr",
     "output_type": "stream",
     "text": [
      "<ipython-input-79-d06bb8139afa>:1: UserWarning: Boolean Series key will be reindexed to match DataFrame index.\n",
      "  retention_7_june_table = retention_table_with_revenue[retention_table_with_revenue['lifetime']==7][retention_table_with_revenue['registration_date']>=\"2019-06-01\"][retention_table_with_revenue['registration_date']<\"2019-07-01\"]\n"
     ]
    },
    {
     "data": {
      "text/html": [
       "<div>\n",
       "<style scoped>\n",
       "    .dataframe tbody tr th:only-of-type {\n",
       "        vertical-align: middle;\n",
       "    }\n",
       "\n",
       "    .dataframe tbody tr th {\n",
       "        vertical-align: top;\n",
       "    }\n",
       "\n",
       "    .dataframe thead th {\n",
       "        text-align: right;\n",
       "    }\n",
       "</style>\n",
       "<table border=\"1\" class=\"dataframe\">\n",
       "  <thead>\n",
       "    <tr style=\"text-align: right;\">\n",
       "      <th></th>\n",
       "      <th>activity_date</th>\n",
       "      <th>registration_date</th>\n",
       "      <th>active_users_count</th>\n",
       "      <th>registered_users_count</th>\n",
       "      <th>lifetime</th>\n",
       "      <th>users_count_with_revenue</th>\n",
       "      <th>revenue</th>\n",
       "    </tr>\n",
       "  </thead>\n",
       "  <tbody>\n",
       "    <tr>\n",
       "      <th>736</th>\n",
       "      <td>2019-06-08</td>\n",
       "      <td>2019-06-01</td>\n",
       "      <td>545</td>\n",
       "      <td>4833</td>\n",
       "      <td>7</td>\n",
       "      <td>365</td>\n",
       "      <td>176.3160</td>\n",
       "    </tr>\n",
       "    <tr>\n",
       "      <th>767</th>\n",
       "      <td>2019-06-09</td>\n",
       "      <td>2019-06-02</td>\n",
       "      <td>683</td>\n",
       "      <td>5255</td>\n",
       "      <td>7</td>\n",
       "      <td>461</td>\n",
       "      <td>193.8390</td>\n",
       "    </tr>\n",
       "    <tr>\n",
       "      <th>798</th>\n",
       "      <td>2019-06-10</td>\n",
       "      <td>2019-06-03</td>\n",
       "      <td>484</td>\n",
       "      <td>4193</td>\n",
       "      <td>7</td>\n",
       "      <td>320</td>\n",
       "      <td>27.7548</td>\n",
       "    </tr>\n",
       "    <tr>\n",
       "      <th>829</th>\n",
       "      <td>2019-06-11</td>\n",
       "      <td>2019-06-04</td>\n",
       "      <td>511</td>\n",
       "      <td>4194</td>\n",
       "      <td>7</td>\n",
       "      <td>320</td>\n",
       "      <td>54.9610</td>\n",
       "    </tr>\n",
       "    <tr>\n",
       "      <th>860</th>\n",
       "      <td>2019-06-12</td>\n",
       "      <td>2019-06-05</td>\n",
       "      <td>472</td>\n",
       "      <td>3998</td>\n",
       "      <td>7</td>\n",
       "      <td>301</td>\n",
       "      <td>63.1554</td>\n",
       "    </tr>\n",
       "  </tbody>\n",
       "</table>\n",
       "</div>"
      ],
      "text/plain": [
       "    activity_date registration_date  active_users_count  \\\n",
       "736    2019-06-08        2019-06-01                 545   \n",
       "767    2019-06-09        2019-06-02                 683   \n",
       "798    2019-06-10        2019-06-03                 484   \n",
       "829    2019-06-11        2019-06-04                 511   \n",
       "860    2019-06-12        2019-06-05                 472   \n",
       "\n",
       "     registered_users_count  lifetime  users_count_with_revenue   revenue  \n",
       "736                    4833         7                       365  176.3160  \n",
       "767                    5255         7                       461  193.8390  \n",
       "798                    4193         7                       320   27.7548  \n",
       "829                    4194         7                       320   54.9610  \n",
       "860                    3998         7                       301   63.1554  "
      ]
     },
     "execution_count": 79,
     "metadata": {},
     "output_type": "execute_result"
    }
   ],
   "source": [
    "retention_7_june_table = retention_table_with_revenue[retention_table_with_revenue['lifetime']==7][retention_table_with_revenue['registration_date']>=\"2019-06-01\"][retention_table_with_revenue['registration_date']<\"2019-07-01\"]\n",
    "retention_7_june_table.head()"
   ]
  },
  {
   "cell_type": "code",
   "execution_count": 80,
   "metadata": {},
   "outputs": [
    {
     "name": "stdout",
     "output_type": "stream",
     "text": [
      "Retention 7 дня для пользователей, привлеченных после релиза = 12.56%\n"
     ]
    }
   ],
   "source": [
    "print ('Retention 7 дня для пользователей, привлеченных после релиза = {:.2%}'.format(retention_7_june_table['active_users_count'].sum() / retention_7_june_table['registered_users_count'].sum()))"
   ]
  },
  {
   "cell_type": "markdown",
   "metadata": {},
   "source": [
    "Заметна динамика на понижение показателя до и после релиза.\n",
    "Определим % снижения."
   ]
  },
  {
   "cell_type": "code",
   "execution_count": 81,
   "metadata": {},
   "outputs": [
    {
     "name": "stdout",
     "output_type": "stream",
     "text": [
      "Retention 7 дня для пользователей снизился на 2.95%\n"
     ]
    }
   ],
   "source": [
    "print ('Retention 7 дня для пользователей снизился на {:.2%}'.format(12.93 / 12.56-1))"
   ]
  },
  {
   "cell_type": "markdown",
   "metadata": {},
   "source": [
    "Retention 7 снизился незначительно. возможно на снижение повлияли внешние факторы не связанные с выпуском фичи.\n",
    "Расчитаем ARPPU до и после резиза."
   ]
  },
  {
   "cell_type": "code",
   "execution_count": 82,
   "metadata": {},
   "outputs": [
    {
     "name": "stdout",
     "output_type": "stream",
     "text": [
      "ARPPU до релиза =  0.31\n",
      "ARPPU после релиза =  0.39\n"
     ]
    }
   ],
   "source": [
    "print ('ARPPU до релиза = ', round(retention_table_with_revenue['revenue'][retention_table_with_revenue['registration_date']>=\"2019-05-01\"]\n",
    "                                   [retention_table_with_revenue['registration_date']<\"2019-06-01\"].sum() / \n",
    "                                   retention_table_with_revenue['users_count_with_revenue'][retention_table_with_revenue['registration_date']>=\"2019-05-01\"]\n",
    "                                   [retention_table_with_revenue['registration_date']<\"2019-06-01\"].sum(),2))\n",
    "\n",
    "print ('ARPPU после релиза = ', round(retention_table_with_revenue['revenue'][retention_table_with_revenue['registration_date']>=\"2019-06-01\"]\n",
    "                                   [retention_table_with_revenue['registration_date']<\"2019-07-01\"].sum() / \n",
    "                                   retention_table_with_revenue['users_count_with_revenue'][retention_table_with_revenue['registration_date']>=\"2019-06-01\"]\n",
    "                                   [retention_table_with_revenue['registration_date']<\"2019-07-01\"].sum(),2))"
   ]
  },
  {
   "cell_type": "markdown",
   "metadata": {},
   "source": [
    "Очевидно, что доход с платящих клиентов вырос. Определим на сколько %"
   ]
  },
  {
   "cell_type": "code",
   "execution_count": 83,
   "metadata": {},
   "outputs": [
    {
     "name": "stdout",
     "output_type": "stream",
     "text": [
      "Доход после выпуска фичи с платящего клиента увеличился на 25.81%\n"
     ]
    }
   ],
   "source": [
    "print ('Доход после выпуска фичи с платящего клиента увеличился на {:.2%}'.format(0.39 / 0.31-1))"
   ]
  },
  {
   "cell_type": "markdown",
   "metadata": {},
   "source": [
    "Выводы: Несмотря на на снижение количества привлеченных клиентов ( на 3%), общий доход после выпуска фичи увеличился на 25%. Поскольку фича привела к положительной динамике, что говорит о ее эффективности, ее можно принять в дальнейшую работу. Тем не менее трбуются дальнейшие наблюдения за показателями на более длительном промежутке времени."
   ]
  }
 ],
 "metadata": {
  "interpreter": {
   "hash": "1222c03ac4f86260c89dd9a2668f6b81d971f8a2c2a3ef43ef52dc40cf99c028"
  },
  "kernelspec": {
   "display_name": "Python 3.8.8 64-bit ('base': conda)",
   "language": "python",
   "name": "python3"
  },
  "language_info": {
   "codemirror_mode": {
    "name": "ipython",
    "version": 3
   },
   "file_extension": ".py",
   "mimetype": "text/x-python",
   "name": "python",
   "nbconvert_exporter": "python",
   "pygments_lexer": "ipython3",
   "version": "3.8.8"
  },
  "orig_nbformat": 4
 },
 "nbformat": 4,
 "nbformat_minor": 2
}
