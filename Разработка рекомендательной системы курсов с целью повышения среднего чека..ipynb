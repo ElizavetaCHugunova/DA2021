{
 "cells": [
  {
   "cell_type": "markdown",
   "metadata": {},
   "source": [
    "ЦЕЛЬ\n",
    "Подготовить основу рекомендательной системы, благодаря которой можно будет предлагать клиентам интересные им курсы и тем самым повышать средний чек.\n",
    "\n",
    "ЗАДАЧИ\n",
    "\n",
    "1. Подготовить данные для анализа\n",
    "2. Разбить данные на пары\n",
    "3. Отобрать к каждому купленному курсу пару рекомендумых курсов"
   ]
  },
  {
   "cell_type": "markdown",
   "metadata": {},
   "source": [
    "1. Формируем SQL-запрос в Metabase для дальнейшего анализа.\n",
    "Формируем запрос с данными по продажам курсов в разрезе пользователей (купивших более одного курса)"
   ]
  },
  {
   "cell_type": "markdown",
   "metadata": {},
   "source": [
    " with new as( --создаем временную таблицу с данными в разрезе пользоватей и курсов, которые купили пользователи\n",
    " select \n",
    " c.user_id,-- выбираем пользователя\n",
    " resource_id new_resource_id --выбираем курс\n",
    " from final.carts c join final.cart_items ci on c.id = ci.cart_id --соединяем данные из разных таблиц данных по условию\n",
    " where c.state = 'successful' and ci.resource_type = 'Course' --отсортировываем только купленные курсы\n",
    " group by 1,2), --группируем по первому и ворому столбцу\n",
    " \n",
    " new1 as( --создаем временную таблицу с данными в разрезе пользоватей купивших больше одного раза\n",
    " select \n",
    " c.user_id,-- выбираем пользователя\n",
    " count(ci.id) --подсчитываем количество покупок\n",
    " from final.carts c join final.cart_items ci on c.id = ci.cart_id --соединяем данные из разных таблиц данных по условию\n",
    " where c.state = 'successful' and ci.resource_type = 'Course' --отсортировываем только купленные курсы\n",
    " group by 1 --группируем по первому столбцу\n",
    " having count(distinct ci.resource_id) >1) --выбираем пользователей совершивших покупку курсов более 1 раза\n",
    " \n",
    " select --формируем таблицу с данными по продажам курсов в разрезе пользователей (купивших более одного курса)\n",
    " new1.user_id, --выбираем пользователей\n",
    " new_resource_id --выбираем курсы\n",
    " from new1 join new on new1.user_id=new.user_id --соединяем данные из разных таблиц данных по условию\n",
    " group by 1,2 --группируем по певому и второму столбцу\n",
    " order by 1 --сортируем по первому столбцу\n"
   ]
  },
  {
   "cell_type": "markdown",
   "metadata": {},
   "source": [
    "Выгружаем полученный запрос в файл формата .csv\n",
    "Загружаем файл .csv в Visual Studio Code для дальнейшего анализа на языке  Python  в формате файла с расширением .ipynb"
   ]
  },
  {
   "cell_type": "code",
   "execution_count": 183,
   "metadata": {},
   "outputs": [
    {
     "data": {
      "text/html": [
       "<div>\n",
       "<style scoped>\n",
       "    .dataframe tbody tr th:only-of-type {\n",
       "        vertical-align: middle;\n",
       "    }\n",
       "\n",
       "    .dataframe tbody tr th {\n",
       "        vertical-align: top;\n",
       "    }\n",
       "\n",
       "    .dataframe thead th {\n",
       "        text-align: right;\n",
       "    }\n",
       "</style>\n",
       "<table border=\"1\" class=\"dataframe\">\n",
       "  <thead>\n",
       "    <tr style=\"text-align: right;\">\n",
       "      <th></th>\n",
       "      <th>user_id</th>\n",
       "      <th>new_resource_id</th>\n",
       "    </tr>\n",
       "  </thead>\n",
       "  <tbody>\n",
       "    <tr>\n",
       "      <th>0</th>\n",
       "      <td>51</td>\n",
       "      <td>516</td>\n",
       "    </tr>\n",
       "    <tr>\n",
       "      <th>1</th>\n",
       "      <td>51</td>\n",
       "      <td>1099</td>\n",
       "    </tr>\n",
       "    <tr>\n",
       "      <th>2</th>\n",
       "      <td>6117</td>\n",
       "      <td>356</td>\n",
       "    </tr>\n",
       "    <tr>\n",
       "      <th>3</th>\n",
       "      <td>6117</td>\n",
       "      <td>1125</td>\n",
       "    </tr>\n",
       "    <tr>\n",
       "      <th>4</th>\n",
       "      <td>6117</td>\n",
       "      <td>357</td>\n",
       "    </tr>\n",
       "  </tbody>\n",
       "</table>\n",
       "</div>"
      ],
      "text/plain": [
       "   user_id  new_resource_id\n",
       "0       51              516\n",
       "1       51             1099\n",
       "2     6117              356\n",
       "3     6117             1125\n",
       "4     6117              357"
      ]
     },
     "execution_count": 183,
     "metadata": {},
     "output_type": "execute_result"
    }
   ],
   "source": [
    "import pandas as pd\n",
    "##import matplotlib.pyplot as plt\n",
    "df = pd.read_csv('query_result _new.csv')\n",
    "df.head()"
   ]
  },
  {
   "cell_type": "markdown",
   "metadata": {},
   "source": [
    "Удаляем дубликаты пар в разрезе пользователь-курс"
   ]
  },
  {
   "cell_type": "code",
   "execution_count": 184,
   "metadata": {},
   "outputs": [],
   "source": [
    "df=df.drop_duplicates()"
   ]
  },
  {
   "cell_type": "markdown",
   "metadata": {},
   "source": [
    "Группируем курсы по пользователям в списки"
   ]
  },
  {
   "cell_type": "code",
   "execution_count": 185,
   "metadata": {},
   "outputs": [
    {
     "data": {
      "text/html": [
       "<div>\n",
       "<style scoped>\n",
       "    .dataframe tbody tr th:only-of-type {\n",
       "        vertical-align: middle;\n",
       "    }\n",
       "\n",
       "    .dataframe tbody tr th {\n",
       "        vertical-align: top;\n",
       "    }\n",
       "\n",
       "    .dataframe thead th {\n",
       "        text-align: right;\n",
       "    }\n",
       "</style>\n",
       "<table border=\"1\" class=\"dataframe\">\n",
       "  <thead>\n",
       "    <tr style=\"text-align: right;\">\n",
       "      <th></th>\n",
       "      <th>user_id</th>\n",
       "      <th>new_resource_id</th>\n",
       "    </tr>\n",
       "  </thead>\n",
       "  <tbody>\n",
       "    <tr>\n",
       "      <th>0</th>\n",
       "      <td>51</td>\n",
       "      <td>[516, 1099]</td>\n",
       "    </tr>\n",
       "    <tr>\n",
       "      <th>1</th>\n",
       "      <td>6117</td>\n",
       "      <td>[356, 1125, 357]</td>\n",
       "    </tr>\n",
       "    <tr>\n",
       "      <th>2</th>\n",
       "      <td>10275</td>\n",
       "      <td>[1147, 553]</td>\n",
       "    </tr>\n",
       "    <tr>\n",
       "      <th>3</th>\n",
       "      <td>10457</td>\n",
       "      <td>[1138, 361]</td>\n",
       "    </tr>\n",
       "    <tr>\n",
       "      <th>4</th>\n",
       "      <td>17166</td>\n",
       "      <td>[356, 357]</td>\n",
       "    </tr>\n",
       "  </tbody>\n",
       "</table>\n",
       "</div>"
      ],
      "text/plain": [
       "   user_id   new_resource_id\n",
       "0       51       [516, 1099]\n",
       "1     6117  [356, 1125, 357]\n",
       "2    10275       [1147, 553]\n",
       "3    10457       [1138, 361]\n",
       "4    17166        [356, 357]"
      ]
     },
     "execution_count": 185,
     "metadata": {},
     "output_type": "execute_result"
    }
   ],
   "source": [
    "group_df=df.groupby('user_id')['new_resource_id'].apply(lambda x:list(pd.unique(x))).reset_index()\n",
    "group_df.head()"
   ]
  },
  {
   "cell_type": "markdown",
   "metadata": {},
   "source": [
    "Разбиваем списки на уникальные пары"
   ]
  },
  {
   "cell_type": "code",
   "execution_count": 186,
   "metadata": {},
   "outputs": [
    {
     "data": {
      "text/html": [
       "<div>\n",
       "<style scoped>\n",
       "    .dataframe tbody tr th:only-of-type {\n",
       "        vertical-align: middle;\n",
       "    }\n",
       "\n",
       "    .dataframe tbody tr th {\n",
       "        vertical-align: top;\n",
       "    }\n",
       "\n",
       "    .dataframe thead th {\n",
       "        text-align: right;\n",
       "    }\n",
       "</style>\n",
       "<table border=\"1\" class=\"dataframe\">\n",
       "  <thead>\n",
       "    <tr style=\"text-align: right;\">\n",
       "      <th></th>\n",
       "      <th>№course</th>\n",
       "      <th>resouce</th>\n",
       "    </tr>\n",
       "  </thead>\n",
       "  <tbody>\n",
       "    <tr>\n",
       "      <th>0</th>\n",
       "      <td>516</td>\n",
       "      <td>1099</td>\n",
       "    </tr>\n",
       "    <tr>\n",
       "      <th>1</th>\n",
       "      <td>356</td>\n",
       "      <td>1125</td>\n",
       "    </tr>\n",
       "    <tr>\n",
       "      <th>2</th>\n",
       "      <td>356</td>\n",
       "      <td>357</td>\n",
       "    </tr>\n",
       "    <tr>\n",
       "      <th>3</th>\n",
       "      <td>1125</td>\n",
       "      <td>357</td>\n",
       "    </tr>\n",
       "    <tr>\n",
       "      <th>4</th>\n",
       "      <td>1147</td>\n",
       "      <td>553</td>\n",
       "    </tr>\n",
       "  </tbody>\n",
       "</table>\n",
       "</div>"
      ],
      "text/plain": [
       "   №course  resouce\n",
       "0      516     1099\n",
       "1      356     1125\n",
       "2      356      357\n",
       "3     1125      357\n",
       "4     1147      553"
      ]
     },
     "execution_count": 186,
     "metadata": {},
     "output_type": "execute_result"
    }
   ],
   "source": [
    "import itertools\n",
    "list_courses = list()\n",
    "for resouce in group_df['new_resource_id']:\n",
    "    for pair in itertools.combinations(resouce,2):\n",
    "        list_courses.append(pair)\n",
    "set=pd.DataFrame(list_courses,\n",
    "columns=['№course', 'resouce']) ##формируем датафрайм и присваиваем столбцам названия\n",
    "set.head()"
   ]
  },
  {
   "cell_type": "markdown",
   "metadata": {},
   "source": [
    "Группируем пары по уникальности и подсчитываеем количество каждой уникальной пары в датафрайме и отсортируем по столбцу с количеством в порядке убывания. \n",
    "Видим, что больше всего купили пар курсов 551-566"
   ]
  },
  {
   "cell_type": "code",
   "execution_count": 187,
   "metadata": {},
   "outputs": [
    {
     "data": {
      "text/html": [
       "<div>\n",
       "<style scoped>\n",
       "    .dataframe tbody tr th:only-of-type {\n",
       "        vertical-align: middle;\n",
       "    }\n",
       "\n",
       "    .dataframe tbody tr th {\n",
       "        vertical-align: top;\n",
       "    }\n",
       "\n",
       "    .dataframe thead th {\n",
       "        text-align: right;\n",
       "    }\n",
       "</style>\n",
       "<table border=\"1\" class=\"dataframe\">\n",
       "  <thead>\n",
       "    <tr style=\"text-align: right;\">\n",
       "      <th></th>\n",
       "      <th>№course</th>\n",
       "      <th>resouce</th>\n",
       "      <th>count</th>\n",
       "    </tr>\n",
       "  </thead>\n",
       "  <tbody>\n",
       "    <tr>\n",
       "      <th>1811</th>\n",
       "      <td>551</td>\n",
       "      <td>566</td>\n",
       "      <td>411</td>\n",
       "    </tr>\n",
       "    <tr>\n",
       "      <th>2272</th>\n",
       "      <td>566</td>\n",
       "      <td>551</td>\n",
       "      <td>386</td>\n",
       "    </tr>\n",
       "    <tr>\n",
       "      <th>1292</th>\n",
       "      <td>515</td>\n",
       "      <td>551</td>\n",
       "      <td>214</td>\n",
       "    </tr>\n",
       "    <tr>\n",
       "      <th>1800</th>\n",
       "      <td>551</td>\n",
       "      <td>515</td>\n",
       "      <td>203</td>\n",
       "    </tr>\n",
       "    <tr>\n",
       "      <th>1789</th>\n",
       "      <td>551</td>\n",
       "      <td>489</td>\n",
       "      <td>162</td>\n",
       "    </tr>\n",
       "  </tbody>\n",
       "</table>\n",
       "</div>"
      ],
      "text/plain": [
       "      №course  resouce  count\n",
       "1811      551      566    411\n",
       "2272      566      551    386\n",
       "1292      515      551    214\n",
       "1800      551      515    203\n",
       "1789      551      489    162"
      ]
     },
     "execution_count": 187,
     "metadata": {},
     "output_type": "execute_result"
    }
   ],
   "source": [
    "es=set.groupby(['№course', 'resouce']).size().reset_index().rename(columns={0:'count'})\n",
    "es.sort_values(['count'], ascending=[False], kind=\"heapsort\", inplace=True)\n",
    "es.head()"
   ]
  },
  {
   "cell_type": "markdown",
   "metadata": {},
   "source": [
    "Сортируем датафрайм по первому столбцу в порядке возрастания и по третьему столбцу в пордкеубывания\n",
    "Создаем столбец с уникальным номером курса разрезе курса (столбец один) и ранжируем курсы по количеству покупок пар"
   ]
  },
  {
   "cell_type": "code",
   "execution_count": 188,
   "metadata": {},
   "outputs": [
    {
     "name": "stdout",
     "output_type": "stream",
     "text": [
      "      №course  resouce  count  domainId\n",
      "22        356      571     54       1.0\n",
      "0         356      357     51       2.0\n",
      "15        356      551     23       3.0\n",
      "52        356     1125     22       4.0\n",
      "34        356      765     15       5.0\n",
      "...       ...      ...    ...       ...\n",
      "6363     1199      752      1       3.0\n",
      "6362     1199      523      1       4.0\n",
      "6365     1200     1104      1       1.0\n",
      "6364     1200      794      1       2.0\n",
      "6366     1201     1125      1       1.0\n",
      "\n",
      "[6367 rows x 4 columns]\n"
     ]
    }
   ],
   "source": [
    "es.sort_values(['№course','count'], ascending=[True, False], kind=\"heapsort\", inplace=True)\n",
    "es['domainId'] = es.groupby('№course')['count'].rank(ascending=False, method='first')\n",
    "print(es)"
   ]
  },
  {
   "cell_type": "markdown",
   "metadata": {},
   "source": [
    "Поскольку есть пары курсов, которые были куплены один раз, нужно определить сколько количество покупок считать значимым для формирования рекомендации.\n",
    "Найдем среднее значение по столбцу количество"
   ]
  },
  {
   "cell_type": "code",
   "execution_count": 189,
   "metadata": {},
   "outputs": [
    {
     "data": {
      "text/plain": [
       "6.285063609235118"
      ]
     },
     "execution_count": 189,
     "metadata": {},
     "output_type": "execute_result"
    }
   ],
   "source": [
    "es['count'].mean()"
   ]
  },
  {
   "cell_type": "markdown",
   "metadata": {},
   "source": [
    "Найдем стандартное отклонение"
   ]
  },
  {
   "cell_type": "code",
   "execution_count": 190,
   "metadata": {},
   "outputs": [
    {
     "name": "stdout",
     "output_type": "stream",
     "text": [
      "14.57551867035126\n"
     ]
    }
   ],
   "source": [
    "res_std = es['count'].std()\n",
    "print(res_std)"
   ]
  },
  {
   "cell_type": "markdown",
   "metadata": {},
   "source": [
    "Найдем доверительный интервал для среднего значения купленных курсов и для дальнейших расчетов возьмем целое наименьшее значение этого интервала. Оно равно шести."
   ]
  },
  {
   "cell_type": "code",
   "execution_count": 191,
   "metadata": {},
   "outputs": [
    {
     "name": "stdout",
     "output_type": "stream",
     "text": [
      "(5.819340121208304, 6.760659878791696)\n"
     ]
    }
   ],
   "source": [
    "from scipy.stats import norm\n",
    "import math\n",
    "alpha = 0.01\n",
    "sigma = 14.58\n",
    "n = 6367\n",
    "mean = 6.29\n",
    "def confidence_interval_norm(alpha, sigma, n, mean):\n",
    "    value = -norm.ppf(alpha / 2) * sigma / math.sqrt(n)\n",
    "    return mean - value, mean + value\n",
    "print(confidence_interval_norm(alpha, sigma, n, mean))\n",
    "    \n"
   ]
  },
  {
   "cell_type": "markdown",
   "metadata": {},
   "source": [
    "Заменим курсы в парах купленных менее шести раз на популярные 551 и 566. \n",
    "Воспользумся для этого столбцом ранжирования. Поскольку нас интересует только самые популярные из купленных пар, то мы применим правило только к 1 и 2 показателю ранжирования."
   ]
  },
  {
   "cell_type": "code",
   "execution_count": 192,
   "metadata": {},
   "outputs": [
    {
     "data": {
      "text/html": [
       "<div>\n",
       "<style scoped>\n",
       "    .dataframe tbody tr th:only-of-type {\n",
       "        vertical-align: middle;\n",
       "    }\n",
       "\n",
       "    .dataframe tbody tr th {\n",
       "        vertical-align: top;\n",
       "    }\n",
       "\n",
       "    .dataframe thead th {\n",
       "        text-align: right;\n",
       "    }\n",
       "</style>\n",
       "<table border=\"1\" class=\"dataframe\">\n",
       "  <thead>\n",
       "    <tr style=\"text-align: right;\">\n",
       "      <th></th>\n",
       "      <th>№course</th>\n",
       "      <th>resouce</th>\n",
       "      <th>count</th>\n",
       "      <th>domainId</th>\n",
       "      <th>itog</th>\n",
       "    </tr>\n",
       "  </thead>\n",
       "  <tbody>\n",
       "    <tr>\n",
       "      <th>22</th>\n",
       "      <td>356</td>\n",
       "      <td>571</td>\n",
       "      <td>54</td>\n",
       "      <td>1.0</td>\n",
       "      <td>571.0</td>\n",
       "    </tr>\n",
       "    <tr>\n",
       "      <th>0</th>\n",
       "      <td>356</td>\n",
       "      <td>357</td>\n",
       "      <td>51</td>\n",
       "      <td>2.0</td>\n",
       "      <td>357.0</td>\n",
       "    </tr>\n",
       "    <tr>\n",
       "      <th>15</th>\n",
       "      <td>356</td>\n",
       "      <td>551</td>\n",
       "      <td>23</td>\n",
       "      <td>3.0</td>\n",
       "      <td>551.0</td>\n",
       "    </tr>\n",
       "    <tr>\n",
       "      <th>52</th>\n",
       "      <td>356</td>\n",
       "      <td>1125</td>\n",
       "      <td>22</td>\n",
       "      <td>4.0</td>\n",
       "      <td>1125.0</td>\n",
       "    </tr>\n",
       "    <tr>\n",
       "      <th>34</th>\n",
       "      <td>356</td>\n",
       "      <td>765</td>\n",
       "      <td>15</td>\n",
       "      <td>5.0</td>\n",
       "      <td>765.0</td>\n",
       "    </tr>\n",
       "    <tr>\n",
       "      <th>9</th>\n",
       "      <td>356</td>\n",
       "      <td>514</td>\n",
       "      <td>15</td>\n",
       "      <td>6.0</td>\n",
       "      <td>514.0</td>\n",
       "    </tr>\n",
       "    <tr>\n",
       "      <th>46</th>\n",
       "      <td>356</td>\n",
       "      <td>912</td>\n",
       "      <td>13</td>\n",
       "      <td>7.0</td>\n",
       "      <td>912.0</td>\n",
       "    </tr>\n",
       "  </tbody>\n",
       "</table>\n",
       "</div>"
      ],
      "text/plain": [
       "    №course  resouce  count  domainId    itog\n",
       "22      356      571     54       1.0   571.0\n",
       "0       356      357     51       2.0   357.0\n",
       "15      356      551     23       3.0   551.0\n",
       "52      356     1125     22       4.0  1125.0\n",
       "34      356      765     15       5.0   765.0\n",
       "9       356      514     15       6.0   514.0\n",
       "46      356      912     13       7.0   912.0"
      ]
     },
     "execution_count": 192,
     "metadata": {},
     "output_type": "execute_result"
    }
   ],
   "source": [
    "def itog(row):\n",
    "    if (row['count']< 6) & (row['domainId']==1):\n",
    "        row.resouce2 = 551\n",
    "        return row.resouce\n",
    "    elif (row['count']< 6) & (row['domainId']==2):\n",
    "        row.resouce2 = 566\n",
    "        return row.resouce\n",
    "    else:\n",
    "        return row.resouce\n",
    "new_itog = es.apply(lambda row: itog(row), axis=1)  \n",
    "es['itog'] = new_itog\n",
    "es.head(7)"
   ]
  },
  {
   "cell_type": "markdown",
   "metadata": {},
   "source": [
    "Преобразуем наши данные с помощью сводной таблицы. \n",
    "Создадим столбы в разрезе курсов по признаку ранжирования."
   ]
  },
  {
   "cell_type": "code",
   "execution_count": 193,
   "metadata": {},
   "outputs": [
    {
     "data": {
      "text/html": [
       "<div>\n",
       "<style scoped>\n",
       "    .dataframe tbody tr th:only-of-type {\n",
       "        vertical-align: middle;\n",
       "    }\n",
       "\n",
       "    .dataframe tbody tr th {\n",
       "        vertical-align: top;\n",
       "    }\n",
       "\n",
       "    .dataframe thead th {\n",
       "        text-align: right;\n",
       "    }\n",
       "</style>\n",
       "<table border=\"1\" class=\"dataframe\">\n",
       "  <thead>\n",
       "    <tr style=\"text-align: right;\">\n",
       "      <th>domainId</th>\n",
       "      <th>1.0</th>\n",
       "      <th>2.0</th>\n",
       "      <th>3.0</th>\n",
       "      <th>4.0</th>\n",
       "      <th>5.0</th>\n",
       "      <th>6.0</th>\n",
       "      <th>7.0</th>\n",
       "      <th>8.0</th>\n",
       "      <th>9.0</th>\n",
       "      <th>10.0</th>\n",
       "      <th>...</th>\n",
       "      <th>105.0</th>\n",
       "      <th>106.0</th>\n",
       "      <th>107.0</th>\n",
       "      <th>108.0</th>\n",
       "      <th>109.0</th>\n",
       "      <th>110.0</th>\n",
       "      <th>111.0</th>\n",
       "      <th>112.0</th>\n",
       "      <th>113.0</th>\n",
       "      <th>114.0</th>\n",
       "    </tr>\n",
       "    <tr>\n",
       "      <th>№course</th>\n",
       "      <th></th>\n",
       "      <th></th>\n",
       "      <th></th>\n",
       "      <th></th>\n",
       "      <th></th>\n",
       "      <th></th>\n",
       "      <th></th>\n",
       "      <th></th>\n",
       "      <th></th>\n",
       "      <th></th>\n",
       "      <th></th>\n",
       "      <th></th>\n",
       "      <th></th>\n",
       "      <th></th>\n",
       "      <th></th>\n",
       "      <th></th>\n",
       "      <th></th>\n",
       "      <th></th>\n",
       "      <th></th>\n",
       "      <th></th>\n",
       "      <th></th>\n",
       "    </tr>\n",
       "  </thead>\n",
       "  <tbody>\n",
       "    <tr>\n",
       "      <th>356</th>\n",
       "      <td>571.0</td>\n",
       "      <td>357.0</td>\n",
       "      <td>551.0</td>\n",
       "      <td>1125.0</td>\n",
       "      <td>765.0</td>\n",
       "      <td>514.0</td>\n",
       "      <td>912.0</td>\n",
       "      <td>361.0</td>\n",
       "      <td>515.0</td>\n",
       "      <td>566.0</td>\n",
       "      <td>...</td>\n",
       "      <td>NaN</td>\n",
       "      <td>NaN</td>\n",
       "      <td>NaN</td>\n",
       "      <td>NaN</td>\n",
       "      <td>NaN</td>\n",
       "      <td>NaN</td>\n",
       "      <td>NaN</td>\n",
       "      <td>NaN</td>\n",
       "      <td>NaN</td>\n",
       "      <td>NaN</td>\n",
       "    </tr>\n",
       "    <tr>\n",
       "      <th>357</th>\n",
       "      <td>571.0</td>\n",
       "      <td>356.0</td>\n",
       "      <td>1125.0</td>\n",
       "      <td>551.0</td>\n",
       "      <td>765.0</td>\n",
       "      <td>566.0</td>\n",
       "      <td>514.0</td>\n",
       "      <td>553.0</td>\n",
       "      <td>912.0</td>\n",
       "      <td>745.0</td>\n",
       "      <td>...</td>\n",
       "      <td>NaN</td>\n",
       "      <td>NaN</td>\n",
       "      <td>NaN</td>\n",
       "      <td>NaN</td>\n",
       "      <td>NaN</td>\n",
       "      <td>NaN</td>\n",
       "      <td>NaN</td>\n",
       "      <td>NaN</td>\n",
       "      <td>NaN</td>\n",
       "      <td>NaN</td>\n",
       "    </tr>\n",
       "    <tr>\n",
       "      <th>358</th>\n",
       "      <td>570.0</td>\n",
       "      <td>752.0</td>\n",
       "      <td>507.0</td>\n",
       "      <td>359.0</td>\n",
       "      <td>551.0</td>\n",
       "      <td>508.0</td>\n",
       "      <td>1115.0</td>\n",
       "      <td>552.0</td>\n",
       "      <td>523.0</td>\n",
       "      <td>514.0</td>\n",
       "      <td>...</td>\n",
       "      <td>NaN</td>\n",
       "      <td>NaN</td>\n",
       "      <td>NaN</td>\n",
       "      <td>NaN</td>\n",
       "      <td>NaN</td>\n",
       "      <td>NaN</td>\n",
       "      <td>NaN</td>\n",
       "      <td>NaN</td>\n",
       "      <td>NaN</td>\n",
       "      <td>NaN</td>\n",
       "    </tr>\n",
       "    <tr>\n",
       "      <th>359</th>\n",
       "      <td>358.0</td>\n",
       "      <td>570.0</td>\n",
       "      <td>752.0</td>\n",
       "      <td>523.0</td>\n",
       "      <td>507.0</td>\n",
       "      <td>551.0</td>\n",
       "      <td>566.0</td>\n",
       "      <td>519.0</td>\n",
       "      <td>515.0</td>\n",
       "      <td>489.0</td>\n",
       "      <td>...</td>\n",
       "      <td>NaN</td>\n",
       "      <td>NaN</td>\n",
       "      <td>NaN</td>\n",
       "      <td>NaN</td>\n",
       "      <td>NaN</td>\n",
       "      <td>NaN</td>\n",
       "      <td>NaN</td>\n",
       "      <td>NaN</td>\n",
       "      <td>NaN</td>\n",
       "      <td>NaN</td>\n",
       "    </tr>\n",
       "    <tr>\n",
       "      <th>360</th>\n",
       "      <td>553.0</td>\n",
       "      <td>745.0</td>\n",
       "      <td>568.0</td>\n",
       "      <td>1099.0</td>\n",
       "      <td>516.0</td>\n",
       "      <td>523.0</td>\n",
       "      <td>1187.0</td>\n",
       "      <td>357.0</td>\n",
       "      <td>679.0</td>\n",
       "      <td>489.0</td>\n",
       "      <td>...</td>\n",
       "      <td>NaN</td>\n",
       "      <td>NaN</td>\n",
       "      <td>NaN</td>\n",
       "      <td>NaN</td>\n",
       "      <td>NaN</td>\n",
       "      <td>NaN</td>\n",
       "      <td>NaN</td>\n",
       "      <td>NaN</td>\n",
       "      <td>NaN</td>\n",
       "      <td>NaN</td>\n",
       "    </tr>\n",
       "  </tbody>\n",
       "</table>\n",
       "<p>5 rows × 114 columns</p>\n",
       "</div>"
      ],
      "text/plain": [
       "domainId  1.0    2.0     3.0     4.0    5.0    6.0     7.0    8.0    9.0    \\\n",
       "№course                                                                      \n",
       "356       571.0  357.0   551.0  1125.0  765.0  514.0   912.0  361.0  515.0   \n",
       "357       571.0  356.0  1125.0   551.0  765.0  566.0   514.0  553.0  912.0   \n",
       "358       570.0  752.0   507.0   359.0  551.0  508.0  1115.0  552.0  523.0   \n",
       "359       358.0  570.0   752.0   523.0  507.0  551.0   566.0  519.0  515.0   \n",
       "360       553.0  745.0   568.0  1099.0  516.0  523.0  1187.0  357.0  679.0   \n",
       "\n",
       "domainId  10.0   ...  105.0  106.0  107.0  108.0  109.0  110.0  111.0  112.0  \\\n",
       "№course          ...                                                           \n",
       "356       566.0  ...    NaN    NaN    NaN    NaN    NaN    NaN    NaN    NaN   \n",
       "357       745.0  ...    NaN    NaN    NaN    NaN    NaN    NaN    NaN    NaN   \n",
       "358       514.0  ...    NaN    NaN    NaN    NaN    NaN    NaN    NaN    NaN   \n",
       "359       489.0  ...    NaN    NaN    NaN    NaN    NaN    NaN    NaN    NaN   \n",
       "360       489.0  ...    NaN    NaN    NaN    NaN    NaN    NaN    NaN    NaN   \n",
       "\n",
       "domainId  113.0  114.0  \n",
       "№course                 \n",
       "356         NaN    NaN  \n",
       "357         NaN    NaN  \n",
       "358         NaN    NaN  \n",
       "359         NaN    NaN  \n",
       "360         NaN    NaN  \n",
       "\n",
       "[5 rows x 114 columns]"
      ]
     },
     "execution_count": 193,
     "metadata": {},
     "output_type": "execute_result"
    }
   ],
   "source": [
    "pivot = es.pivot_table(values='itog', index = '№course', columns = 'domainId',aggfunc='min')\n",
    "pivot = pivot.copy()\n",
    "pivot.head()"
   ]
  },
  {
   "cell_type": "markdown",
   "metadata": {},
   "source": [
    "Отберем из полученной сводной таблицы только столбцы с ранжирование 1 и 2.\n",
    "Преобразем сводную талицу в датафрайм и переименуем столбцы.\n",
    "Заменим пустые ячейки с данными второй рекомендации на ноль, а затем присвоим значение популярного курса (551). Нули получились в связи с тем, что к курсу в первом столбце ни разу не покупалось других курсов, кроме указанных в столбце два. Возможно это специфическое направление обучения, тк другими курсами покупатели не заинтересовались. В этом случае есть вероятность того, что пользователи данных курсов не заинтересуются рекомендациями, поэтому возможно есть смысл рассмотреть вариант с расширением количества курсов по специфическому направлению."
   ]
  },
  {
   "cell_type": "code",
   "execution_count": 194,
   "metadata": {},
   "outputs": [
    {
     "name": "stdout",
     "output_type": "stream",
     "text": [
      "     №course  recommendation1  recommendation2\n",
      "0        356            571.0            357.0\n",
      "1        357            571.0            356.0\n",
      "2        358            570.0            752.0\n",
      "3        359            358.0            570.0\n",
      "4        360            553.0            745.0\n",
      "..       ...              ...              ...\n",
      "121     1188            513.0           1141.0\n",
      "122     1198            912.0            551.0\n",
      "123     1199            515.0            519.0\n",
      "124     1200           1104.0            794.0\n",
      "125     1201           1125.0            551.0\n",
      "\n",
      "[126 rows x 3 columns]\n"
     ]
    }
   ],
   "source": [
    "import numpy as np\n",
    "pivot_new=pivot.iloc[:, 0:2]\n",
    "pivot_new = pd.DataFrame(pivot_new.to_records()).rename(columns={'1.0':'recommendation1','2.0':'recommendation2'})\n",
    "pivot_new = pivot_new.fillna(0)\n",
    "pivot_new['recommendation2'] = np.where((pivot_new['recommendation2'] == 0), 551, pivot_new['recommendation2'])\n",
    "print(pivot_new)"
   ]
  },
  {
   "cell_type": "markdown",
   "metadata": {},
   "source": [
    "Таблица с рекомендациями готова.\n",
    "\n",
    "PS: Структура SQL запроса в данном файле сильно искажается. Прошу не судить строго."
   ]
  }
 ],
 "metadata": {
  "interpreter": {
   "hash": "1222c03ac4f86260c89dd9a2668f6b81d971f8a2c2a3ef43ef52dc40cf99c028"
  },
  "kernelspec": {
   "display_name": "Python 3.8.8 64-bit ('base': conda)",
   "language": "python",
   "name": "python3"
  },
  "language_info": {
   "codemirror_mode": {
    "name": "ipython",
    "version": 3
   },
   "file_extension": ".py",
   "mimetype": "text/x-python",
   "name": "python",
   "nbconvert_exporter": "python",
   "pygments_lexer": "ipython3",
   "version": "3.8.8"
  },
  "orig_nbformat": 4
 },
 "nbformat": 4,
 "nbformat_minor": 2
}
